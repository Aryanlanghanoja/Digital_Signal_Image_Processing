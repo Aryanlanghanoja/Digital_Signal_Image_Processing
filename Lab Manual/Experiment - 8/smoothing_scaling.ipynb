{
 "cells": [
  {
   "cell_type": "code",
   "execution_count": 7,
   "metadata": {},
   "outputs": [
    {
     "name": "stdout",
     "output_type": "stream",
     "text": [
      "Images saved as 'original_image.jpg', 'smoothed_image.jpg', and 'sharpened_image.jpg'\n"
     ]
    }
   ],
   "source": [
    "import cv2  # type: ignore\n",
    "import numpy as np\n",
    "\n",
    "# Load the image\n",
    "image = cv2.imread('./DSC_1205-A.jpg', 0)  # Load as grayscale\n",
    "\n",
    "# Define a low-pass filter kernel (Gaussian)\n",
    "kernel_size = 5\n",
    "sigma = 1.5\n",
    "low_pass_filter = cv2.getGaussianKernel(kernel_size, sigma)\n",
    "low_pass_filter = low_pass_filter * low_pass_filter.T\n",
    "\n",
    "# Apply the low-pass filter to the image\n",
    "smoothed_image = cv2.filter2D(image, -1, low_pass_filter)\n",
    "\n",
    "# Define a high-pass filter kernel (Laplacian)\n",
    "high_pass_filter = np.array([[0, -1, 0],\n",
    "                             [-1, 4, -1],\n",
    "                             [0, -1, 0]], dtype=np.float32)\n",
    "\n",
    "# Apply the high-pass filter to the image\n",
    "sharpened_image = cv2.filter2D(image, -1, high_pass_filter)\n",
    "\n",
    "# Save the images\n",
    "cv2.imwrite(\"original_image.jpg\", image)\n",
    "cv2.imwrite(\"smoothed_image.jpg\", smoothed_image)\n",
    "cv2.imwrite(\"sharpened_image.jpg\", sharpened_image)\n",
    "\n",
    "# # Display the original image, the smoothed image, and the sharpened image\n",
    "# cv2.imshow(\"Original Image\", image)\n",
    "# cv2.imshow(\"Smoothed Image\", smoothed_image)\n",
    "# cv2.imshow(\"Sharpened Image\", sharpened_image)\n",
    "\n",
    "# Wait for a key press and then close the windows\n",
    "cv2.waitKey(0)\n",
    "cv2.destroyAllWindows()\n",
    "\n",
    "print(\"Images saved as 'original_image.jpg', 'smoothed_image.jpg', and 'sharpened_image.jpg'\")\n"
   ]
  }
 ],
 "metadata": {
  "kernelspec": {
   "display_name": "Python 3",
   "language": "python",
   "name": "python3"
  },
  "language_info": {
   "codemirror_mode": {
    "name": "ipython",
    "version": 3
   },
   "file_extension": ".py",
   "mimetype": "text/x-python",
   "name": "python",
   "nbconvert_exporter": "python",
   "pygments_lexer": "ipython3",
   "version": "3.13.0"
  }
 },
 "nbformat": 4,
 "nbformat_minor": 2
}
