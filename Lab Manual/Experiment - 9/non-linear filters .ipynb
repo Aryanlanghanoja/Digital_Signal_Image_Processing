{
 "cells": [
  {
   "cell_type": "code",
   "execution_count": 2,
   "metadata": {},
   "outputs": [
    {
     "name": "stdout",
     "output_type": "stream",
     "text": [
      "Filtered image saved as 'filtered_image.jpg'\n"
     ]
    }
   ],
   "source": [
    "import cv2\n",
    "import numpy as np\n",
    "\n",
    "# Load the noisy image\n",
    "noisy_image = cv2.imread(\"./DSC_1205-A.jpg\", 0)  # Load as grayscale\n",
    "if noisy_image is None:\n",
    "    raise FileNotFoundError(\n",
    "        \"The image './DSC_1205-A.jpg' could not be loaded. Check the file path.\"\n",
    "    )\n",
    "\n",
    "# Apply a median filter to remove noise\n",
    "filtered_image = cv2.medianBlur(noisy_image, 5)  # 5x5 neighborhood window size\n",
    "\n",
    "# Save the filtered image\n",
    "cv2.imwrite(\"filtered_image.jpg\", filtered_image)\n",
    "\n",
    "# # Display the original noisy image and the filtered image\n",
    "# cv2.imshow(\"Noisy Image\", noisy_image)\n",
    "# cv2.imshow(\"Filtered Image\", filtered_image)\n",
    "\n",
    "# Wait for a key press and then close the windows\n",
    "cv2.waitKey(0)\n",
    "cv2.destroyAllWindows()\n",
    "\n",
    "print(\"Filtered image saved as 'filtered_image.jpg'\")"
   ]
  }
 ],
 "metadata": {
  "kernelspec": {
   "display_name": "Python 3",
   "language": "python",
   "name": "python3"
  },
  "language_info": {
   "codemirror_mode": {
    "name": "ipython",
    "version": 3
   },
   "file_extension": ".py",
   "mimetype": "text/x-python",
   "name": "python",
   "nbconvert_exporter": "python",
   "pygments_lexer": "ipython3",
   "version": "3.13.0"
  }
 },
 "nbformat": 4,
 "nbformat_minor": 2
}
