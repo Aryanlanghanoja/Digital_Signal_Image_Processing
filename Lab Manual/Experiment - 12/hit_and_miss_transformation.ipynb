{
 "cells": [
  {
   "cell_type": "code",
   "execution_count": 2,
   "metadata": {},
   "outputs": [
    {
     "name": "stdout",
     "output_type": "stream",
     "text": [
      "The Result is Saved\n"
     ]
    }
   ],
   "source": [
    "import cv2\n",
    "import numpy as np\n",
    "\n",
    "image = cv2.imread(\"./Images.jpg\", 0)\n",
    "pattern = np.array([[-1, 1, -1], [1, 1, 1], [-1, 1, -1]], dtype=np.int8)\n",
    "result = cv2.morphologyEx(image, cv2.MORPH_HITMISS, pattern)\n",
    "cv2.imwrite(\"hit_miss_transformation_result.jpg\", result)\n",
    "\n",
    "print(\"The Result is Saved\")"
   ]
  }
 ],
 "metadata": {
  "kernelspec": {
   "display_name": "Python 3",
   "language": "python",
   "name": "python3"
  },
  "language_info": {
   "codemirror_mode": {
    "name": "ipython",
    "version": 3
   },
   "file_extension": ".py",
   "mimetype": "text/x-python",
   "name": "python",
   "nbconvert_exporter": "python",
   "pygments_lexer": "ipython3",
   "version": "3.13.0"
  }
 },
 "nbformat": 4,
 "nbformat_minor": 2
}
