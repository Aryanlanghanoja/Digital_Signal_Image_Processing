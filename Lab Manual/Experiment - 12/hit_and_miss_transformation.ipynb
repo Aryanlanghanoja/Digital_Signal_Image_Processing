{
 "cells": [
  {
   "cell_type": "code",
   "execution_count": 1,
   "metadata": {},
   "outputs": [
    {
     "name": "stdout",
     "output_type": "stream",
     "text": [
      "The Result is Saved\n"
     ]
    }
   ],
   "source": [
    "import cv2\n",
    "import numpy as np\n",
    "\n",
    "# Load the binary image\n",
    "image = cv2.imread('./DSC_1205-A.jpg', 0)\n",
    "\n",
    "# Define the structuring element for the pattern to be detected\n",
    "# (0 for don't care, 1 for foreground, -1 for background)\n",
    "pattern = np.array([\n",
    "    [-1, 1, -1],\n",
    "    [1, 1, 1],\n",
    "    [-1, 1, -1]\n",
    "], dtype=np.int8)\n",
    "\n",
    "# Apply the Hit or Miss Transformation\n",
    "result = cv2.morphologyEx(image, cv2.MORPH_HITMISS, pattern)\n",
    "\n",
    "# # Display the original image and the result\n",
    "# cv2.imshow('Original Image', image)\n",
    "# cv2.imshow('Result', result)\n",
    "\n",
    "# Save the result as a new image\n",
    "cv2.imwrite('hit_miss_transformation_result.jpg', result)\n",
    "print(\"The Result is Saved\")\n"
   ]
  }
 ],
 "metadata": {
  "kernelspec": {
   "display_name": "Python 3",
   "language": "python",
   "name": "python3"
  },
  "language_info": {
   "codemirror_mode": {
    "name": "ipython",
    "version": 3
   },
   "file_extension": ".py",
   "mimetype": "text/x-python",
   "name": "python",
   "nbconvert_exporter": "python",
   "pygments_lexer": "ipython3",
   "version": "3.13.0"
  }
 },
 "nbformat": 4,
 "nbformat_minor": 2
}
