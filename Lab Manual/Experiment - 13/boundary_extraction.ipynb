{
 "cells": [
  {
   "cell_type": "code",
   "execution_count": 2,
   "metadata": {},
   "outputs": [
    {
     "name": "stdout",
     "output_type": "stream",
     "text": [
      "The boundary image is saved as 'boundary_image_result.jpg'\n"
     ]
    }
   ],
   "source": [
    "import cv2\n",
    "import numpy as np\n",
    "\n",
    "# Load the image\n",
    "image = cv2.imread(\"./DSC_1205-A.jpg\", cv2.IMREAD_GRAYSCALE)\n",
    "\n",
    "# Apply Gaussian blur to reduce noise\n",
    "image_blurred = cv2.GaussianBlur(image, (5, 5), 0)\n",
    "\n",
    "# Apply Canny edge detection\n",
    "edges = cv2.Canny(image_blurred, threshold1=30, threshold2=100)\n",
    "\n",
    "# Create a black image with the same size as the original image\n",
    "boundary_image = np.zeros_like(image)\n",
    "\n",
    "# Copy the detected edges to the boundary image\n",
    "boundary_image[edges > 0] = 255\n",
    "\n",
    "# # Display the original image and the boundary image\n",
    "# cv2.imshow(\"Original Image\", image)\n",
    "# cv2.imshow(\"Boundary Image\", boundary_image)\n",
    "\n",
    "# Save the boundary image\n",
    "cv2.imwrite(\"boundary_image_result.jpg\", boundary_image)\n",
    "print(\"The boundary image is saved as 'boundary_image_result.jpg'\")"
   ]
  }
 ],
 "metadata": {
  "kernelspec": {
   "display_name": "Python 3",
   "language": "python",
   "name": "python3"
  },
  "language_info": {
   "codemirror_mode": {
    "name": "ipython",
    "version": 3
   },
   "file_extension": ".py",
   "mimetype": "text/x-python",
   "name": "python",
   "nbconvert_exporter": "python",
   "pygments_lexer": "ipython3",
   "version": "3.13.0"
  }
 },
 "nbformat": 4,
 "nbformat_minor": 2
}
