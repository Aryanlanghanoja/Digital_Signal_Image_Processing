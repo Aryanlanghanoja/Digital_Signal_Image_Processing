{
 "cells": [
  {
   "cell_type": "code",
   "execution_count": 2,
   "metadata": {},
   "outputs": [
    {
     "name": "stdout",
     "output_type": "stream",
     "text": [
      "Images saved: 'erosion.jpg', 'dilation.jpg', 'opening.jpg', 'closing.jpg'\n"
     ]
    }
   ],
   "source": [
    "import cv2\n",
    "import numpy as np\n",
    "\n",
    "# Load the image\n",
    "image_path = \"./DSC_1205-A.jpg\"\n",
    "image = cv2.imread(image_path, 0)  # Load as grayscale\n",
    "if image is None:\n",
    "    raise FileNotFoundError(\n",
    "        f\"The image '{image_path}' could not be loaded. Check the file path.\"\n",
    "    )\n",
    "\n",
    "# Define the kernel (structuring element)\n",
    "kernel = np.ones((5, 5), np.uint8)\n",
    "\n",
    "# Perform Erosion\n",
    "erosion = cv2.erode(image, kernel, iterations=1)\n",
    "\n",
    "# Perform Dilation\n",
    "dilation = cv2.dilate(image, kernel, iterations=1)\n",
    "\n",
    "# Perform Opening (Erosion followed by Dilation)\n",
    "opening = cv2.morphologyEx(image, cv2.MORPH_OPEN, kernel)\n",
    "\n",
    "# Perform Closing (Dilation followed by Erosion)\n",
    "closing = cv2.morphologyEx(image, cv2.MORPH_CLOSE, kernel)\n",
    "\n",
    "# # Display the original image and the results\n",
    "# print(\"Original Image:\")\n",
    "# cv2_imshow(image)\n",
    "\n",
    "# print(\"Erosion:\")\n",
    "# cv2_imshow(erosion)\n",
    "\n",
    "# print(\"Dilation:\")\n",
    "# cv2_imshow(dilation)\n",
    "\n",
    "# print(\"Opening:\")\n",
    "# cv2_imshow(opening)\n",
    "\n",
    "# print(\"Closing:\")\n",
    "# cv2_imshow(closing)\n",
    "\n",
    "# Save the results\n",
    "cv2.imwrite(\"erosion.jpg\", erosion)\n",
    "cv2.imwrite(\"dilation.jpg\", dilation)\n",
    "cv2.imwrite(\"opening.jpg\", opening)\n",
    "cv2.imwrite(\"closing.jpg\", closing)\n",
    "\n",
    "print(\"Images saved: 'erosion.jpg', 'dilation.jpg', 'opening.jpg', 'closing.jpg'\")"
   ]
  }
 ],
 "metadata": {
  "kernelspec": {
   "display_name": "Python 3",
   "language": "python",
   "name": "python3"
  },
  "language_info": {
   "codemirror_mode": {
    "name": "ipython",
    "version": 3
   },
   "file_extension": ".py",
   "mimetype": "text/x-python",
   "name": "python",
   "nbconvert_exporter": "python",
   "pygments_lexer": "ipython3",
   "version": "3.13.0"
  }
 },
 "nbformat": 4,
 "nbformat_minor": 2
}
