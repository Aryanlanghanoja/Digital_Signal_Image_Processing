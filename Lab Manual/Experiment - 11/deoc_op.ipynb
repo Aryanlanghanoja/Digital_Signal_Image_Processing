{
 "cells": [
  {
   "cell_type": "code",
   "execution_count": 1,
   "metadata": {},
   "outputs": [
    {
     "name": "stdout",
     "output_type": "stream",
     "text": [
      "Images saved: 'erosion.jpg', 'dilation.jpg', 'opening.jpg', 'closing.jpg'\n"
     ]
    }
   ],
   "source": [
    "import cv2\n",
    "import numpy as np\n",
    "\n",
    "image_path = \"./Images.jpg\"\n",
    "image = cv2.imread(image_path, 0) \n",
    "if image is None:\n",
    "    raise FileNotFoundError(\n",
    "        f\"The image '{image_path}' could not be loaded. Check the file path.\"\n",
    "    )\n",
    "\n",
    "kernel = np.ones((5, 5), np.uint8)\n",
    "\n",
    "erosion = cv2.erode(image, kernel, iterations=1)\n",
    "dilation = cv2.dilate(image, kernel, iterations=1)\n",
    "opening = cv2.morphologyEx(image, cv2.MORPH_OPEN, kernel)\n",
    "closing = cv2.morphologyEx(image, cv2.MORPH_CLOSE, kernel)\n",
    "\n",
    "cv2.imwrite(\"erosion.jpg\", erosion)\n",
    "cv2.imwrite(\"dilation.jpg\", dilation)\n",
    "cv2.imwrite(\"opening.jpg\", opening)\n",
    "cv2.imwrite(\"closing.jpg\", closing)\n",
    "\n",
    "print(\"Images saved: 'erosion.jpg', 'dilation.jpg', 'opening.jpg', 'closing.jpg'\")"
   ]
  }
 ],
 "metadata": {
  "kernelspec": {
   "display_name": "Python 3",
   "language": "python",
   "name": "python3"
  },
  "language_info": {
   "codemirror_mode": {
    "name": "ipython",
    "version": 3
   },
   "file_extension": ".py",
   "mimetype": "text/x-python",
   "name": "python",
   "nbconvert_exporter": "python",
   "pygments_lexer": "ipython3",
   "version": "3.13.0"
  }
 },
 "nbformat": 4,
 "nbformat_minor": 2
}
